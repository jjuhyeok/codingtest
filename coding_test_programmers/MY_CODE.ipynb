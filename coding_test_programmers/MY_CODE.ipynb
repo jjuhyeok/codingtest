{
  "nbformat": 4,
  "nbformat_minor": 0,
  "metadata": {
    "colab": {
      "provenance": []
    },
    "kernelspec": {
      "name": "python3",
      "display_name": "Python 3"
    },
    "language_info": {
      "name": "python"
    }
  },
  "cells": [
    {
      "cell_type": "markdown",
      "source": [
        "# 1번 최종"
      ],
      "metadata": {
        "id": "FAEhPpDEm5Yd"
      }
    },
    {
      "cell_type": "code",
      "source": [
        "def solution(price, info):\n",
        "    answer = -1\n",
        "    new_arr = []\n",
        "    for i in range(len(info)):\n",
        "        new_arr.append((info[i][0]*price) + info[i][1])\n",
        "\n",
        "    cnt = 0\n",
        "    minimum_arr = []\n",
        "    min_value = min(new_arr)\n",
        "    for i in range(len(new_arr)):\n",
        "      if(min_value == new_arr[i]):\n",
        "        answer = i+1\n",
        "        cnt+=1\n",
        "        minimum_arr.append([info[i][0],answer])\n",
        "\n",
        "    if(cnt == 1):\n",
        "      return answer\n",
        "    else:\n",
        "        minimum_arr.sort(key = lambda x : (x[0],x[1]))\n",
        "        return minimum_arr[0][1]\n",
        "\n",
        "    return answer\n"
      ],
      "metadata": {
        "id": "dFhS1mTbhI6Q"
      },
      "execution_count": null,
      "outputs": []
    },
    {
      "cell_type": "markdown",
      "source": [
        "# 2번 최종"
      ],
      "metadata": {
        "id": "M1Kc_XUdm8Yd"
      }
    },
    {
      "cell_type": "code",
      "source": [
        "def solution(scores):\n",
        "  l = len(scores)\n",
        "  answer = [0]* l\n",
        "\n",
        "  scores1 = 0\n",
        "  scores2 = 0\n",
        "\n",
        "  for i in scores:\n",
        "    scores1 += i[0]\n",
        "    scores2 += i[1]\n",
        "\n",
        "  difficult1 = 1\n",
        "  difficult2 = 1\n",
        "\n",
        "  if scores1 < scores2:\n",
        "    difficult1 = 1.000001\n",
        "  elif scores2 > scores1 :\n",
        "    difficult2 = 1.000001\n",
        "\n",
        "\n",
        "  arr = list(map(lambda x : x + [x[0] * difficult1 + x[1] * difficult2], scores))\n",
        "  for idx in range(l):\n",
        "    arr[idx].append(idx)\n",
        "\n",
        "  arr.sort(key = lambda x : x[2], reverse = True)\n",
        "\n",
        "  i = 1\n",
        "  for pro in arr:\n",
        "    answer[pro[3]] = i\n",
        "    i+=1\n",
        "\n",
        "  return answer"
      ],
      "metadata": {
        "id": "O8KCgx2vm7uK"
      },
      "execution_count": null,
      "outputs": []
    },
    {
      "cell_type": "markdown",
      "source": [
        "# 3번 최종"
      ],
      "metadata": {
        "id": "6xzCfcRRm_kE"
      }
    },
    {
      "cell_type": "code",
      "source": [
        "def SR(arr):\n",
        "    arr2 = []\n",
        "    for i in arr:\n",
        "        for j in range(int(i[0])):\n",
        "            arr2.append(str(j) + i)\n",
        "    arr2.sort()\n",
        "    return arr2\n",
        "\n",
        "def solution(k):\n",
        "    result = \"\"\n",
        "    k-=1\n",
        "    if(k < 10):\n",
        "        return str(k)\n",
        "    arr = [str(i) for i in range(10)]\n",
        "    k-=len(arr)\n",
        "\n",
        "    while(1):\n",
        "        if(len(arr[0]) >= 9):\n",
        "            return str(-1)\n",
        "        arr = SR(arr)\n",
        "        if(len(arr) > k):\n",
        "            return arr[k]\n",
        "        k-=len(arr)\n",
        "\n",
        "    return result"
      ],
      "metadata": {
        "id": "_PLXiLSdnAQ5"
      },
      "execution_count": null,
      "outputs": []
    }
  ]
}