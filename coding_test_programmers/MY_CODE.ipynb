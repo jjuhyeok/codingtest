{
  "cells": [
    {
      "cell_type": "markdown",
      "metadata": {
        "id": "FAEhPpDEm5Yd"
      },
      "source": [
        "# 1번 최종"
      ]
    },
    {
      "cell_type": "code",
      "execution_count": null,
      "metadata": {
        "id": "dFhS1mTbhI6Q"
      },
      "outputs": [],
      "source": [
        "def solution(price, info):\n",
        "    answer = -1\n",
        "    new_arr = []\n",
        "    for i in range(len(info)):\n",
        "        new_arr.append((info[i][0]*price) + info[i][1])\n",
        "\n",
        "    cnt = 0\n",
        "    minimum_arr = []\n",
        "    min_value = min(new_arr)\n",
        "    for i in range(len(new_arr)):\n",
        "      if(min_value == new_arr[i]):\n",
        "        answer = i+1\n",
        "        cnt+=1\n",
        "        minimum_arr.append([info[i][0],answer])\n",
        "\n",
        "    if(cnt == 1):\n",
        "      return answer\n",
        "    else:\n",
        "        minimum_arr.sort(key = lambda x : (x[0],x[1]))\n",
        "        return minimum_arr[0][1]\n",
        "\n",
        "    return answer\n"
      ]
    },
    {
      "cell_type": "code",
      "execution_count": null,
      "metadata": {},
      "outputs": [],
      "source": [
        "solution(20000, [[20,150000],[80,30000],[63,70000],[21,20000]])\n",
        "#solution(20000, [[20,150000], [40,30000], [25,70000]])\n",
        "solution(30000, [[30,100000],[20,400000]])"
      ]
    },
    {
      "cell_type": "markdown",
      "metadata": {
        "id": "M1Kc_XUdm8Yd"
      },
      "source": [
        "# 2번 최종"
      ]
    },
    {
      "cell_type": "code",
      "execution_count": null,
      "metadata": {
        "id": "O8KCgx2vm7uK"
      },
      "outputs": [],
      "source": [
        "def solution(scores):\n",
        "  l = len(scores)\n",
        "  answer = [0]* l\n",
        "\n",
        "  scores1 = 0\n",
        "  scores2 = 0\n",
        "\n",
        "  for i in scores:\n",
        "    scores1 += i[0]\n",
        "    scores2 += i[1]\n",
        "\n",
        "  difficult1 = 1\n",
        "  difficult2 = 1\n",
        "\n",
        "  if scores1 < scores2:\n",
        "    difficult1 = 1.000001\n",
        "  elif scores2 > scores1 :\n",
        "    difficult2 = 1.000001\n",
        "\n",
        "\n",
        "  arr = list(map(lambda x : x + [x[0] * difficult1 + x[1] * difficult2], scores))\n",
        "  for idx in range(l):\n",
        "    arr[idx].append(idx)\n",
        "\n",
        "  arr.sort(key = lambda x : x[2], reverse = True)\n",
        "\n",
        "  i = 1\n",
        "  for pro in arr:\n",
        "    answer[pro[3]] = i\n",
        "    i+=1\n",
        "\n",
        "  return answer"
      ]
    },
    {
      "cell_type": "code",
      "execution_count": null,
      "metadata": {},
      "outputs": [],
      "source": [
        "#solution([[85,90], [65,67], [88,87], [88,87], [73,81], [65,89], [99,100],[80,94]])\n",
        "#solution(([85,90], [91,87], [88,87]))\n",
        "solution([[0,0],[0,0]])"
      ]
    },
    {
      "cell_type": "markdown",
      "metadata": {
        "id": "6xzCfcRRm_kE"
      },
      "source": [
        "# 3번 최종"
      ]
    },
    {
      "cell_type": "code",
      "execution_count": null,
      "metadata": {
        "id": "_PLXiLSdnAQ5"
      },
      "outputs": [],
      "source": [
        "def SR(arr):\n",
        "    arr2 = []\n",
        "    for i in arr:\n",
        "        for j in range(int(i[0])):\n",
        "            arr2.append(str(j) + i)\n",
        "    arr2.sort()\n",
        "    return arr2\n",
        "\n",
        "def solution(k):\n",
        "    result = \"\"\n",
        "    k-=1\n",
        "    if(k < 10):\n",
        "        return str(k)\n",
        "    arr = [str(i) for i in range(10)]\n",
        "    k-=len(arr)\n",
        "\n",
        "    while(1):\n",
        "        if(len(arr[0]) >= 9):\n",
        "            return str(-1)\n",
        "        arr = SR(arr)\n",
        "        if(len(arr) > k):\n",
        "            return arr[k]\n",
        "        k-=len(arr)\n",
        "\n",
        "    return result"
      ]
    },
    {
      "cell_type": "code",
      "execution_count": null,
      "metadata": {},
      "outputs": [],
      "source": [
        "print(solution(1))\n",
        "print(solution(10))\n",
        "print(solution(11))\n",
        "print(solution(99999999))\n",
        "print(solution(110))"
      ]
    }
  ],
  "metadata": {
    "colab": {
      "provenance": []
    },
    "kernelspec": {
      "display_name": "Python 3",
      "name": "python3"
    },
    "language_info": {
      "name": "python"
    }
  },
  "nbformat": 4,
  "nbformat_minor": 0
}
